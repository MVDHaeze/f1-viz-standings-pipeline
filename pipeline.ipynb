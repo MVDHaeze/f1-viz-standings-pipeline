{
 "cells": [
  {
   "cell_type": "code",
   "execution_count": 80,
   "metadata": {},
   "outputs": [],
   "source": [
    "import pandas as pd\n",
    "from src import getSeasonResults\n",
    "import json"
   ]
  },
  {
   "cell_type": "code",
   "execution_count": 81,
   "metadata": {},
   "outputs": [],
   "source": [
    "season_results = getSeasonResults.getSeasonResults()\n",
    "df = pd.DataFrame(season_results)\n",
    "\n",
    "# retrieve the list of driver results for each race and flatten it into a dataframe\n",
    "data = (pd.concat({r: pd.json_normalize(d) for r, d in df.pop('result').items()})\n",
    "        .reset_index(level=1, drop=True)\n",
    "        .join(df)\n",
    "        .reset_index(drop=True))\n"
   ]
  },
  {
   "cell_type": "code",
   "execution_count": 86,
   "metadata": {},
   "outputs": [],
   "source": [
    "json_data = data.to_json(\"data/results.json\",orient=\"records\")"
   ]
  }
 ],
 "metadata": {
  "interpreter": {
   "hash": "efba83b83e0fde14fb16f5b6cf9b24eb536aa676146796346f9523522875d68c"
  },
  "kernelspec": {
   "display_name": "Python 3.9.7 ('base')",
   "language": "python",
   "name": "python3"
  },
  "language_info": {
   "codemirror_mode": {
    "name": "ipython",
    "version": 3
   },
   "file_extension": ".py",
   "mimetype": "text/x-python",
   "name": "python",
   "nbconvert_exporter": "python",
   "pygments_lexer": "ipython3",
   "version": "3.9.7"
  },
  "orig_nbformat": 4
 },
 "nbformat": 4,
 "nbformat_minor": 2
}
